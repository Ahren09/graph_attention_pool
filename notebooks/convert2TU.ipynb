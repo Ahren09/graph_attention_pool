{
 "cells": [
  {
   "cell_type": "code",
   "execution_count": 1,
   "metadata": {
    "collapsed": true
   },
   "outputs": [],
   "source": [
    "import numpy as np\n",
    "import pickle\n",
    "import os"
   ]
  },
  {
   "cell_type": "code",
   "execution_count": 2,
   "metadata": {
    "collapsed": true
   },
   "outputs": [],
   "source": [
    "data_dir = '../data/'"
   ]
  },
  {
   "cell_type": "code",
   "execution_count": 3,
   "metadata": {
    "collapsed": true
   },
   "outputs": [],
   "source": [
    "def write_data_TU(data, out_path, dim_test=None):\n",
    "    c = 0\n",
    "    nodes = 1\n",
    "    with open('%s_A.txt' % out_path, 'w') as f:\n",
    "        for A in data['Adj_matrices']:\n",
    "            N = A.shape[0]\n",
    "            for i in range(N):\n",
    "                for j in range(i, N):        \n",
    "                    if A[i, j] > 0:\n",
    "                        f.write('%d, %d\\n' % (i + nodes, j + nodes))\n",
    "            nodes += N\n",
    "            c += np.sum(A) / 2\n",
    "    print(c)\n",
    "\n",
    "    c = 1\n",
    "    with open('%s_graph_indicator.txt' % out_path, 'w') as f:\n",
    "        for A in data['Adj_matrices']:\n",
    "            N = A.shape[0]\n",
    "            for j in range(N):\n",
    "                f.write('%d\\n' % c)\n",
    "            c += 1\n",
    "    print(c)\n",
    "\n",
    "    with open('%s_graph_attributes.txt' % out_path, 'w') as f:\n",
    "        for lbl in data['graph_labels']:\n",
    "            f.write('%d\\n' % lbl)\n",
    "\n",
    "    \n",
    "        with open('%s_node_attributes.txt' % out_path, 'w') as f:\n",
    "            for node_id in range(len(data['GT_attn'])):\n",
    "                attn = data['GT_attn'][node_id]\n",
    "                N = attn.shape[0]\n",
    "                for i in range(N):\n",
    "                    f.write('%d' % attn[i])\n",
    "                    if dim_test is not None:\n",
    "                        f.write(', ')\n",
    "                        x = data['node_features'][node_id]\n",
    "                        for j in range(dim_test):                        \n",
    "                            if j < x.shape[1]:                        \n",
    "                                f.write('%d' % x[i, j])\n",
    "                            else:\n",
    "                                f.write('0')\n",
    "                            if j < dim_test - 1:\n",
    "                                f.write(', ')                    \n",
    "                    f.write('\\n') \n",
    "                \n",
    "#     with open('%s_node_attention.txt' % out_path, 'w') as f:\n",
    "#         for x in data['GT_attn']:\n",
    "#             N = x.shape[0]\n",
    "#             for i in range(N):\n",
    "#                 f.write('%d\\n' % x[i])"
   ]
  },
  {
   "cell_type": "code",
   "execution_count": 4,
   "metadata": {},
   "outputs": [
    {
     "name": "stdout",
     "output_type": "stream",
     "text": [
      "train Adj_matrices 500\n",
      "train GT_attn 500\n",
      "train graph_labels 500\n",
      "train node_features 500\n",
      "train N_edges 500\n",
      "\n",
      "\n",
      "val Adj_matrices 3000\n",
      "val GT_attn 3000\n",
      "val graph_labels 3000\n",
      "val node_features 3000\n",
      "val N_edges 3000\n",
      "\n",
      "\n",
      "test Adj_matrices 10500\n",
      "test GT_attn 10500\n",
      "test graph_labels 10500\n",
      "test node_features 10500\n",
      "test N_edges 10500\n",
      "\n",
      "\n",
      "955788.0\n",
      "10501\n",
      "10500 61.31171428571429 60.52053469623652 4 200\n",
      "10500 91.02742857142857 93.66902222113747 4 397\n"
     ]
    }
   ],
   "source": [
    "for dim in [3]:\n",
    "    dim_test = dim + 1\n",
    "    data = {}\n",
    "    out_dir = '%s/COLORS-%d' % (data_dir, dim)\n",
    "    try:\n",
    "        os.mkdir(out_dir)\n",
    "    except Exception as e:\n",
    "        print(e)\n",
    "\n",
    "    for split in ['train', 'val', 'test']:\n",
    "        \n",
    "        with open('%s/random_graphs_colors_dim%d_%s.pkl' % (data_dir, dim, split), 'rb') as f:\n",
    "            data_tmp = pickle.load(f)            \n",
    "        for key in data_tmp:            \n",
    "            if split == 'train':\n",
    "                data[key] = data_tmp[key]\n",
    "            else:\n",
    "                if isinstance(data[key], list):\n",
    "                    data[key].extend(data_tmp[key])\n",
    "                else:\n",
    "                    data[key] = np.concatenate((data[key], data_tmp[key]))\n",
    "            print(split, key, len(data[key]))\n",
    "        print('\\n')\n",
    "    write_data_TU(data, '%s/COLORS-%d' % (out_dir, dim), dim_test)\n",
    "    \n",
    "nodes = [A.shape[0] for A in data['Adj_matrices']]\n",
    "edges = [np.sum(A) // 2 for A in data['Adj_matrices']]\n",
    "print(len(nodes), np.mean(nodes), np.std(nodes), np.min(nodes), np.max(nodes))\n",
    "print(len(edges), np.mean(edges), np.std(edges), np.min(edges), np.max(edges))      "
   ]
  },
  {
   "cell_type": "code",
   "execution_count": 5,
   "metadata": {},
   "outputs": [
    {
     "name": "stdout",
     "output_type": "stream",
     "text": [
      "\n",
      "\n",
      "736732.0\n",
      "30001\n",
      "[Errno 17] File exists: '../data//TRIANGLES'\n",
      "val Adj_matrices 35000\n",
      "val GT_attn 35000\n",
      "val graph_labels 35000\n",
      "val N_edges 35000\n",
      "val Max_degree 14\n",
      "\n",
      "\n",
      "859328.0\n",
      "35001\n",
      "[Errno 17] File exists: '../data//TRIANGLES'\n",
      "test Adj_matrices 45000\n",
      "test GT_attn 45000\n",
      "test graph_labels 45000\n",
      "test N_edges 45000\n",
      "test Max_degree 14\n",
      "\n",
      "\n",
      "1473512.0\n",
      "45001\n",
      "45000 20.854177777777778 17.460003254790188 4 100\n",
      "45000 32.74471111111111 28.14843482573703 4 198\n"
     ]
    }
   ],
   "source": [
    "data = {}\n",
    "for split in ['train', 'val', 'test']:\n",
    "    out_dir = '%s/TRIANGLES' % (data_dir)\n",
    "    try:\n",
    "        os.mkdir(out_dir)\n",
    "    except Exception as e:\n",
    "        print(e)\n",
    "    with open('%s/random_graphs_triangles_%s.pkl' % (data_dir, split), 'rb') as f:\n",
    "        data_tmp = pickle.load(f)\n",
    "    for key in data_tmp:\n",
    "        if split == 'train':\n",
    "            data[key] = data_tmp[key]\n",
    "        else:\n",
    "            if key == 'Max_degree':\n",
    "                print(split, key, data[key])\n",
    "                data[key] = np.max((data[key], data_tmp[key]))\n",
    "            else:\n",
    "                if isinstance(data[key], list):\n",
    "                    data[key].extend(data_tmp[key])\n",
    "                else:\n",
    "                    data[key] = np.concatenate((data[key], data_tmp[key]))\n",
    "                print(split, key, len(data[key]))\n",
    "    print('\\n')\n",
    "    write_data_TU(data, '%s/TRIANGLES' % (out_dir))\n",
    "    \n",
    "nodes = [A.shape[0] for A in data['Adj_matrices']]\n",
    "edges = [np.sum(A) // 2 for A in data['Adj_matrices']]\n",
    "print(len(nodes), np.mean(nodes), np.std(nodes), np.min(nodes), np.max(nodes))\n",
    "print(len(edges), np.mean(edges), np.std(edges), np.min(edges), np.max(edges))    "
   ]
  },
  {
   "cell_type": "code",
   "execution_count": null,
   "metadata": {
    "collapsed": true
   },
   "outputs": [],
   "source": []
  }
 ],
 "metadata": {
  "kernelspec": {
   "display_name": "Python 3",
   "language": "python",
   "name": "python3"
  },
  "language_info": {
   "codemirror_mode": {
    "name": "ipython",
    "version": 3
   },
   "file_extension": ".py",
   "mimetype": "text/x-python",
   "name": "python",
   "nbconvert_exporter": "python",
   "pygments_lexer": "ipython3",
   "version": "3.6.8"
  }
 },
 "nbformat": 4,
 "nbformat_minor": 2
}
