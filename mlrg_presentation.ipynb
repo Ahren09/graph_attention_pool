{
 "cells": [
  {
   "cell_type": "code",
   "execution_count": 1,
   "metadata": {
    "collapsed": true
   },
   "outputs": [],
   "source": [
    "import torch\n",
    "import torch.nn as nn"
   ]
  },
  {
   "cell_type": "markdown",
   "metadata": {},
   "source": [
    "# Fully connected layer\n",
    "$X \\in \\mathbb{R}^{C}$ - input features for some example in the dataset\n",
    "\n",
    "$W \\in \\mathbb{R}^{C\\times F}$ - trainable weights of the fully connected layer\n",
    "\n",
    "$Z = XW$ - fully connected layer, where $Z \\in \\mathbb{R}^{F}$ - output features "
   ]
  },
  {
   "cell_type": "code",
   "execution_count": 2,
   "metadata": {},
   "outputs": [
    {
     "data": {
      "text/plain": [
       "torch.Size([1, 8])"
      ]
     },
     "execution_count": 2,
     "metadata": {},
     "output_type": "execute_result"
    }
   ],
   "source": [
    "C = 2\n",
    "F = 8\n",
    "W = nn.Linear(in_features=C, out_features=F)\n",
    "X = torch.randn(1, C)\n",
    "Z = W(X)\n",
    "Z.shape"
   ]
  },
  {
   "cell_type": "markdown",
   "metadata": {},
   "source": [
    "# Graph Neural Network layer\n",
    "\n",
    "$X \\in \\mathbb{R}^{N \\times C}$ - input features for some graph with $N$ nodes\n",
    "\n",
    "$A \\in \\mathbb{R}^{N \\times N} $ - adjacency matrix, where $A_{ij}$ - an edge between nodes $i$ and $j$\n",
    "\n",
    "$W \\in \\mathbb{R}^{C\\times F}$ - trainable weights of the fully connected layer\n",
    "\n",
    "$Z = AXW$ - fully connected layer, $Z \\in \\mathbb{R}^{N \\times F}$ - output features\n",
    "\n"
   ]
  },
  {
   "cell_type": "code",
   "execution_count": 4,
   "metadata": {},
   "outputs": [
    {
     "data": {
      "text/plain": [
       "torch.Size([6, 8])"
      ]
     },
     "execution_count": 4,
     "metadata": {},
     "output_type": "execute_result"
    }
   ],
   "source": [
    "C = 2\n",
    "F = 8\n",
    "N = 6\n",
    "W = nn.Linear(in_features=C, out_features=F)\n",
    "X = torch.randn(N, C)\n",
    "A = torch.rand(N, N)\n",
    "Z = W(torch.mm(A, X))\n",
    "Z.shape"
   ]
  },
  {
   "cell_type": "code",
   "execution_count": null,
   "metadata": {
    "collapsed": true
   },
   "outputs": [],
   "source": []
  }
 ],
 "metadata": {
  "kernelspec": {
   "display_name": "Python 3",
   "language": "python",
   "name": "python3"
  },
  "language_info": {
   "codemirror_mode": {
    "name": "ipython",
    "version": 3
   },
   "file_extension": ".py",
   "mimetype": "text/x-python",
   "name": "python",
   "nbconvert_exporter": "python",
   "pygments_lexer": "ipython3",
   "version": "3.6.5"
  }
 },
 "nbformat": 4,
 "nbformat_minor": 2
}
