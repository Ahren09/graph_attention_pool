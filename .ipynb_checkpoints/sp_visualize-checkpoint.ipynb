{
 "cells": [
  {
   "cell_type": "code",
   "execution_count": 1,
   "metadata": {
    "collapsed": true
   },
   "outputs": [],
   "source": [
    "import matplotlib.pyplot as plt\n",
    "import numpy as np\n",
    "import pickle\n",
    "from torchvision import datasets"
   ]
  },
  {
   "cell_type": "markdown",
   "metadata": {},
   "source": [
    "# MNIST-75sp"
   ]
  },
  {
   "cell_type": "code",
   "execution_count": 2,
   "metadata": {},
   "outputs": [
    {
     "name": "stdout",
     "output_type": "stream",
     "text": [
      "10000 10000 10000\n",
      "(10000, 28, 28)\n"
     ]
    }
   ],
   "source": [
    "with open('data/mnist_75sp_test.pkl', 'rb') as f:\n",
    "    test_labels, test_data = pickle.load(f)\n",
    "with open('data/mnist_75sp_test_superpixels.pkl', 'rb') as f:\n",
    "    superpixels = pickle.load(f)\n",
    "print(len(test_labels), len(test_data), len(superpixels))\n",
    "data = datasets.MNIST('./data', train=False, download=False)\n",
    "images = data.test_data.numpy()\n",
    "sz = images.shape\n",
    "print(sz)"
   ]
  },
  {
   "cell_type": "code",
   "execution_count": 3,
   "metadata": {
    "scrolled": true
   },
   "outputs": [
    {
     "ename": "NameError",
     "evalue": "name 'images_sp_masks' is not defined",
     "output_type": "error",
     "traceback": [
      "\u001b[0;31m---------------------------------------------------------------------------\u001b[0m",
      "\u001b[0;31mNameError\u001b[0m                                 Traceback (most recent call last)",
      "\u001b[0;32m<ipython-input-3-e09da1df14ac>\u001b[0m in \u001b[0;36m<module>\u001b[0;34m()\u001b[0m\n\u001b[1;32m     32\u001b[0m \u001b[0;34m\u001b[0m\u001b[0m\n\u001b[1;32m     33\u001b[0m     \u001b[0mimages_orig\u001b[0m\u001b[0;34m.\u001b[0m\u001b[0mappend\u001b[0m\u001b[0;34m(\u001b[0m\u001b[0mimages\u001b[0m\u001b[0;34m[\u001b[0m\u001b[0mi\u001b[0m\u001b[0;34m]\u001b[0m\u001b[0;34m)\u001b[0m\u001b[0;34m\u001b[0m\u001b[0m\n\u001b[0;32m---> 34\u001b[0;31m     \u001b[0mimages_sp_masks\u001b[0m\u001b[0;34m.\u001b[0m\u001b[0mappend\u001b[0m\u001b[0;34m(\u001b[0m\u001b[0msuperpixels\u001b[0m\u001b[0;34m[\u001b[0m\u001b[0mi\u001b[0m\u001b[0;34m]\u001b[0m\u001b[0;34m)\u001b[0m\u001b[0;34m\u001b[0m\u001b[0m\n\u001b[0m\u001b[1;32m     35\u001b[0m     \u001b[0mimages_sp\u001b[0m\u001b[0;34m.\u001b[0m\u001b[0mappend\u001b[0m\u001b[0;34m(\u001b[0m\u001b[0mimg\u001b[0m\u001b[0;34m)\u001b[0m\u001b[0;34m\u001b[0m\u001b[0m\n\u001b[1;32m     36\u001b[0m     \u001b[0mimages_noise\u001b[0m\u001b[0;34m.\u001b[0m\u001b[0mappend\u001b[0m\u001b[0;34m(\u001b[0m\u001b[0mimg_noise\u001b[0m\u001b[0;34m)\u001b[0m\u001b[0;34m\u001b[0m\u001b[0m\n",
      "\u001b[0;31mNameError\u001b[0m: name 'images_sp_masks' is not defined"
     ]
    }
   ],
   "source": [
    "ind = []\n",
    "labels_added = set()\n",
    "for i, lbl in enumerate(test_labels):\n",
    "    if lbl not in labels_added:\n",
    "        ind.append(i)\n",
    "        labels_added.add(lbl)\n",
    "ind_sorted = []\n",
    "for i in np.argsort(test_labels):\n",
    "    if i in ind:\n",
    "        ind_sorted.append(i)\n",
    "\n",
    "noises = np.load('data/mnist_75sp_noise.npy')\n",
    "color_noises = np.load('data/mnist_75sp_color_noise.npy')\n",
    "noise_levels = [0.75, 1.25]\n",
    "mn, sd = 0.11, 0.14  # mean, std values for superpixel intensities computed for the mnist dataset\n",
    "\n",
    "images_orig, images_sp_masks, images_sp, images_noise, images_color_noise = [], [], [], [], []\n",
    "for i in ind_sorted:\n",
    "    sp_intensity, sp_coord, sp_order = test_data[i]    \n",
    "    n_sp = sp_intensity.shape[0]\n",
    "    noise, color_noise = noises[i, :n_sp], color_noises[i, :n_sp]    \n",
    "    # print(n_sp)\n",
    "    img = np.zeros((sz[1], sz[1]))\n",
    "    img_noise = np.zeros((sz[1], sz[1], 3))\n",
    "    img_color_noise = np.zeros((sz[1], sz[1], 3))    \n",
    "    for sp_intens, sp_index in zip(sp_intensity, sp_order):\n",
    "        mask = superpixels[i] == sp_index\n",
    "        img[mask] = sp_intens\n",
    "        img_noise[mask] = (sp_intens - mn) / sd + noise[sp_index] * noise_levels[0]\n",
    "        img_color_noise[mask] = (sp_intens - mn) / sd + color_noise[sp_index] * noise_levels[1]\n",
    "    \n",
    "    \n",
    "    images_orig.append(images[i])\n",
    "    images_sp_masks.append(superpixels[i])\n",
    "    images_sp.append(img)\n",
    "    images_noise.append(img_noise)\n",
    "    images_color_noise.append(img_color_noise)"
   ]
  },
  {
   "cell_type": "code",
   "execution_count": null,
   "metadata": {
    "scrolled": true
   },
   "outputs": [],
   "source": [
    "def norm_img(im):\n",
    "    m1 = im.min()\n",
    "    m2 = im.max()    \n",
    "    return (im - m1) / (m2 - m1)\n",
    "\n",
    "for fig_id, img_set in enumerate([images_orig, images_sp_masks, images_sp, images_noise, images_color_noise]):\n",
    "    fig = plt.figure(figsize=(15, 6))\n",
    "    n_cols = 5\n",
    "    n_rows = 2 \n",
    "    for i in range(n_rows):\n",
    "        for j in range(n_cols):\n",
    "            index = i*n_cols + j\n",
    "            ax = fig.add_subplot(n_rows, n_cols, index + 1)\n",
    "            if fig_id in [0, 2]:\n",
    "                ax.imshow(img_set[index], cmap='gray')\n",
    "            else:\n",
    "                ax.imshow(norm_img(img_set[index]))\n",
    "            ax.axis('off')\n",
    "    plt.subplots_adjust(hspace=0.1, wspace=0.1)\n",
    "    plt.show()"
   ]
  },
  {
   "cell_type": "markdown",
   "metadata": {},
   "source": [
    "# CIFAR-10-150sp"
   ]
  },
  {
   "cell_type": "code",
   "execution_count": null,
   "metadata": {},
   "outputs": [],
   "source": [
    "with open('data/cifar10_150sp_test.pkl', 'rb') as f:\n",
    "    test_labels, test_data = pickle.load(f)\n",
    "with open('data/cifar10_150sp_test_superpixels.pkl', 'rb') as f:\n",
    "    superpixels = pickle.load(f)\n",
    "print(len(test_labels), len(test_data), len(superpixels))\n",
    "data = datasets.CIFAR10('./data', train=False, download=False)\n",
    "images = data.test_data\n",
    "sz = images.shape\n",
    "print(sz)"
   ]
  },
  {
   "cell_type": "code",
   "execution_count": null,
   "metadata": {
    "collapsed": true
   },
   "outputs": [],
   "source": [
    "ind = []\n",
    "labels_added = set()\n",
    "for i, lbl in enumerate(test_labels):\n",
    "    if lbl not in labels_added:\n",
    "        ind.append(i)\n",
    "        labels_added.add(lbl)\n",
    "ind_sorted = []\n",
    "for i in np.argsort(test_labels):\n",
    "    if i in ind:\n",
    "        ind_sorted.append(i)\n",
    "\n",
    "images_orig, images_sp_masks, images_sp = [], [], []\n",
    "for i in ind_sorted:\n",
    "    sp_intensity, sp_coord, sp_order = test_data[i]    \n",
    "    n_sp = sp_intensity.shape[0]\n",
    "    noise, color_noise = noises[i, :n_sp], color_noises[i, :n_sp]    \n",
    "    # print(n_sp)\n",
    "    img = np.zeros((sz[1], sz[1], 3))\n",
    "    for sp_intens, sp_index in zip(sp_intensity, sp_order):\n",
    "        mask = superpixels[i] == sp_index\n",
    "        img[mask] = sp_intens\n",
    "    \n",
    "    images_orig.append(images[i])\n",
    "    images_sp_masks.append(superpixels[i])\n",
    "    images_sp.append(img)    "
   ]
  },
  {
   "cell_type": "code",
   "execution_count": null,
   "metadata": {},
   "outputs": [],
   "source": [
    "for fig_id, img_set in enumerate([images_orig, images_sp_masks, images_sp]):\n",
    "    fig = plt.figure(figsize=(15, 6))\n",
    "    n_cols = 5\n",
    "    n_rows = 2 \n",
    "    for i in range(n_rows):\n",
    "        for j in range(n_cols):\n",
    "            index = i*n_cols + j\n",
    "            ax = fig.add_subplot(n_rows, n_cols, index + 1)            \n",
    "            ax.imshow(norm_img(img_set[index]))\n",
    "            ax.axis('off')\n",
    "    plt.subplots_adjust(hspace=0.1, wspace=0.1)\n",
    "    plt.show()"
   ]
  },
  {
   "cell_type": "code",
   "execution_count": null,
   "metadata": {
    "collapsed": true
   },
   "outputs": [],
   "source": []
  }
 ],
 "metadata": {
  "kernelspec": {
   "display_name": "Python 3",
   "language": "python",
   "name": "python3"
  },
  "language_info": {
   "codemirror_mode": {
    "name": "ipython",
    "version": 3
   },
   "file_extension": ".py",
   "mimetype": "text/x-python",
   "name": "python",
   "nbconvert_exporter": "python",
   "pygments_lexer": "ipython3",
   "version": "3.6.5"
  }
 },
 "nbformat": 4,
 "nbformat_minor": 2
}
